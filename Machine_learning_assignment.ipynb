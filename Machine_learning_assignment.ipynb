{
  "nbformat": 4,
  "nbformat_minor": 0,
  "metadata": {
    "colab": {
      "provenance": []
    },
    "kernelspec": {
      "name": "python3",
      "display_name": "Python 3"
    },
    "language_info": {
      "name": "python"
    }
  },
  "cells": [
    {
      "cell_type": "markdown",
      "source": [
        "## THEORITICAL QUESTION"
      ],
      "metadata": {
        "id": "93zFj4ejZz3u"
      }
    },
    {
      "cell_type": "markdown",
      "source": [
        "**Q1. Explain the differences between AI, ML, Deep Learning (DL), and Data\n",
        "Science (DS).**\n",
        "\n",
        "**Ans:** Lets understand what they stands for:\n",
        "1. **ARTIFICIAL INTELLIGENCE (AI):**\n",
        "AI describes how computer and technology `minimises human intelligence` like reasoning, problem-solving, understanding language. In short, it uses smart applications that can perform a task witout human intervention. For example: Robots, autonomous vehicles, voice assistants etc.\n",
        "2. **MACHINE LEARNING (ML):**\n",
        "ML focusses on creating `algorithmn and statistical model` to let computer learn and make predictions without explicitly programmed. For example: Fraud detection, Email spam filters etc.\n",
        "3. **DEEP LEARNING (DL):**\n",
        "DL is a specialized subset of ML that uses `artificial neutral networks with many layers` to learn complex patterns from large amounts of data. For example: Image recognition, natural language translation etc.\n",
        "4. **DATA SCIENCE (DS):**\n",
        "DS is the interdisciplinary field of extracting knowledge and insights from data using` statistics, mathematics, programming, and domain expertise`. For example: Business Intelligence dashboards, forecasting etc.\n",
        "\n",
        "* AI is the broadest concept.\n",
        "* ML is a core way to implement AI.\n",
        "* DL is a more advanced neural-network-based approach within ML.\n",
        "\n",
        "* Data Science is a separate but overlapping field focused on analyzing and interpreting data, often using ML/DL as tools."
      ],
      "metadata": {
        "id": "Y-lO8AG1Z57A"
      }
    },
    {
      "cell_type": "markdown",
      "source": [
        "**Q2. What are the types of machine learning? Describe each with one\n",
        "real-world example.**\n",
        "\n",
        "**Ans:** Machine learning (ML) is commonly grouped into four main types, based on how the algorithm learns from data:\n",
        "1. **SUPERVISED LEARNING:**\n",
        "The model is trained on a labeled dataset—each input already has a correct output (the “supervision”).\n",
        "The goal is to learn a mapping from inputs - outputs so it can predict for unseen data.\n",
        "**For example:** Email Spam Detection (ie. emails labeled as spam or not spam)\n",
        "2. **UNSUPERVISED LEARNING:**\n",
        "The model works with unlabeled data—it must find hidden patterns, groupings, or structure without predefined answers.\n",
        "**For example:** Customer Segmentation (ie. Purchase history, browsing habits with no “segment” labels.)\n",
        "3. **REINFORCEMENT LEARNING (RL):**\n",
        "An agent learns to make a sequence of decisions by interacting with an environment.\n",
        "It receives rewards or penalties and improves its strategy (policy) to maximize cumulative reward. **For example:** Autonomous vehicle (ie. continuous feedback from sensors and environment.)\n",
        "4. **SEMI-SUPERVISED LEARNING:**\n",
        "A middle ground between supervised and unsupervised learning.\n",
        "Uses a small amount of labeled data plus a large amount of unlabeled data.\n",
        "The few labels guide the model while the unlabeled data helps capture broader patterns. **For example:** Medical Imaging (ie. Thousands of MRI scans where only a few are labeled with a diagnosis.)\n",
        "\n",
        "SUMMARY:\n",
        "* Supervised = learn with answers.\n",
        "\n",
        "* Unsupervised = find patterns without answers.\n",
        "\n",
        "* Reinforcement = learn by trial and reward.\n",
        "\n",
        "* Semi-supervised = combine small labeled sets with large unlabeled sets."
      ],
      "metadata": {
        "id": "WRoSxHC7aCc4"
      }
    },
    {
      "cell_type": "markdown",
      "source": [
        "**Q3. Define overfitting, underfitting, and the bias-variance tradeoff in machine\n",
        "learning.**\n",
        "\n",
        "**Ans:** **1. <u>OVERFITING:**</u>\n",
        "\n",
        "When a model learns the training data too well, including its random noise, instead of just the underlying pattern.\n",
        "\n",
        "**Symptoms:**\n",
        "\n",
        "* Very low error on training data\n",
        "\n",
        "* High error on test (unseen) data\n",
        "\n",
        "**Example:**\n",
        "A decision tree that grows extremely deep and perfectly classifies every training point but fails on new inputs.\n",
        "\n",
        "\n",
        "**2. <u>UNDERFITTING:**</u>\n",
        " When a model is too simple to capture the true structure of the data.\n",
        "\n",
        "**Symptoms:**\n",
        "\n",
        "* High error on both training and test data\n",
        "\n",
        "* Predictions look almost random because the model hasn’t learned enough.\n",
        "\n",
        "**Example:**\n",
        "Using a straight line (linear regression) to fit a clearly curved relationship.\n",
        "\n",
        " **3. <u>BIAS-VARIANCE TRADEOFF**:</u>\n",
        "\n",
        " **Bias:** Error from incorrect assumptions or an overly simple model (tends to cause underfitting).\n",
        "\n",
        "**Variance:** Error from the model’s sensitivity to small fluctuations in the training data (tends to cause overfitting).\n",
        "\n",
        "As model complexity increases:\n",
        "\n",
        "* Bias decreases (model can capture more complex patterns).\n",
        "\n",
        "* Variance increases (model becomes more sensitive to noise).\n",
        "\n",
        "The tradeoff is finding the “sweet spot” where total error (Bias² + Variance + irreducible noise) is minimized.\n",
        "\n",
        "SUMMARY:\n",
        "1. **Overfitting:**\n",
        "\n",
        "* Model is too complex and learns noise in the training data.\n",
        "\n",
        "* Low training error, high test error → poor generalization.\n",
        "\n",
        "2. **Underfitting:**\n",
        "\n",
        "* Model is too simple to capture true patterns.\n",
        "\n",
        "* High error on both training and test sets.\n",
        "\n",
        "3. **Bias–Variance Tradeoff:**\n",
        "\n",
        "* Bias: Error from overly simple assumptions (→ underfitting).\n",
        "\n",
        "* Variance: Error from high sensitivity to training data (→ overfitting).\n",
        "\n",
        "* Goal: choose model complexity that minimizes total error (balance low bias and low variance)."
      ],
      "metadata": {
        "id": "UI0Bx3KXaVBQ"
      }
    },
    {
      "cell_type": "markdown",
      "source": [
        "**Q4. What are outliers in a dataset, and list three common techniques for\n",
        "handling them.**\n",
        "\n",
        "**Ans:** Outliers are data points that are significantly different from the majority of the data. They can occur due to errors, variability in measurement, or genuine extreme values.\n",
        "\n",
        "**Three Common Techniques to Handle Outliers:**\n",
        "\n",
        "1. **REMOVAL (Trimming):**\n",
        "\n",
        "* Identify outliers using statistical methods (e.g., Z-score > 3 or IQR rule) and remove those data points.\n",
        "\n",
        "* Best when outliers are proven to be errors or irrelevant.\n",
        "\n",
        "2. **TRANSFORMATION:**\n",
        "\n",
        "* Apply mathematical transformations such as log, square root, or Box-Cox to reduce the impact of extreme values.\n",
        "\n",
        "3. **CAPPING/WINSORIZATION**\n",
        "\n",
        "* Replace extreme values beyond a chosen percentile (e.g., below the 1st and above the 99th percentile) with the nearest acceptable value."
      ],
      "metadata": {
        "id": "CT4a7DF8ajBT"
      }
    },
    {
      "cell_type": "markdown",
      "source": [
        "**Q5. Explain the process of handling missing values and mention one\n",
        "imputation technique for numerical and one for categorical data.**\n",
        "\n",
        "**Ans:** The process of handling missing values are step by step follows:\n",
        "1. **DETECT:**\n",
        "Identify where values are missing.\n",
        "\n",
        "* Use tools like df.isnull().sum() in pandas to count missing entries.\n",
        "\n",
        "2. **UNDERSTANDING THE CAUSE:**\n",
        "Find out why data is missing.\n",
        "\n",
        "* Random data loss, data-entry error, or a meaningful absence (e.g., “not applicable”).\n",
        "\n",
        "3. **DECIDE ON A STRATEGY:**\n",
        "\n",
        "* Delete rows/columns if the missing proportion is small and not critical.\n",
        "\n",
        "* Impute (fill in) values when the feature is important.\n",
        "\n",
        "* Flag with an indicator column to capture the fact that a value was missing.\n",
        "\n",
        "**<u>IMPUTATION TECHNIQUES</u>**:\n",
        "1. **For Numerical Data:**\n",
        "* **Mean Imputation**:  Replace missing values with the column’s mean.\n",
        "Example (pandas):\n",
        "(CODE)\n",
        "\n",
        "python\n",
        "\n",
        "df['age'].fillna(df['age'].mean(), inplace=True)\n",
        "\n",
        "2. **For Categorical Data:**\n",
        "* **Mode Imputation**: Fill missing values with the most frequent category.\n",
        "Example (pandas):\n",
        "(CODE):\n",
        "\n",
        "python\n",
        "\n",
        "df['payment_method'].fillna(df['payment_method'].mode()[0], inplace=True)\n",
        "\n"
      ],
      "metadata": {
        "id": "OZYOegHnaqs6"
      }
    },
    {
      "cell_type": "markdown",
      "source": [
        "## PRACTICAL QUESTION"
      ],
      "metadata": {
        "id": "OaBEzmkmb6P5"
      }
    },
    {
      "cell_type": "markdown",
      "source": [
        "**Q6. Write a Python program that:**\n",
        "* **Creates a synthetic imbalanced dataset with make_classification() from\n",
        "sklearn.datasets.**\n",
        "* **Prints the class distribution.**\n",
        "\n"
      ],
      "metadata": {
        "id": "Nagv8wS9a1MA"
      }
    },
    {
      "cell_type": "code",
      "source": [
        "# Import necessary libraries\n",
        "from sklearn.datasets import make_classification\n",
        "from collections import Counter\n",
        "\n",
        "# Create a synthetic imbalanced dataset\n",
        "X, y = make_classification(n_samples=1000, n_features=2, n_informative=2, n_redundant=0, n_classes=2, weights=[0.95, 0.05], random_state=42)\n",
        "\n",
        "\n",
        "# Print the class distribution\n",
        "class_counts = Counter(y)\n",
        "print(\"Class Distribution:\")\n",
        "for class_label, count in class_counts.items():\n",
        "    print(f\"Class {class_label}: {count} samples\")"
      ],
      "metadata": {
        "id": "wuKPcAvRcS1a",
        "colab": {
          "base_uri": "https://localhost:8080/"
        },
        "outputId": "d20a6358-e87d-40be-b59e-24263ebfc179"
      },
      "execution_count": null,
      "outputs": [
        {
          "output_type": "stream",
          "name": "stdout",
          "text": [
            "Class Distribution:\n",
            "Class 0: 944 samples\n",
            "Class 1: 56 samples\n"
          ]
        }
      ]
    },
    {
      "cell_type": "markdown",
      "source": [
        "**Q7. Implement one-hot encoding using pandas for the following list of colors:\n",
        "['Red', 'Green', 'Blue', 'Green', 'Red']. Print the resulting dataframe.**"
      ],
      "metadata": {
        "id": "6MX7rECzcTH_"
      }
    },
    {
      "cell_type": "code",
      "source": [
        "import pandas as pd\n",
        "\n",
        "# List of colors\n",
        "colors = ['Red', 'Green', 'Blue', 'Green', 'Red']\n",
        "\n",
        "# Convert the list into a DataFrame\n",
        "df = pd.DataFrame(colors, columns=['Color'])\n",
        "\n",
        "# Create a DataFrame from the list of colors\n",
        "df = pd.DataFrame({'Color': colors})\n",
        "\n",
        "# Implement one-hot encoding\n",
        "one_hot_encoded_df = pd.get_dummies(df, columns=['Color'], prefix='Color')\n",
        "\n",
        "# Print the resulting dataframe\n",
        "print(\"One-Hot Encoded DataFrame:\")\n",
        "print(one_hot_encoded_df)"
      ],
      "metadata": {
        "id": "-an2iRH9ceef",
        "colab": {
          "base_uri": "https://localhost:8080/"
        },
        "outputId": "6f9789f3-a32d-45a6-b99d-8b5a705a75ec"
      },
      "execution_count": null,
      "outputs": [
        {
          "output_type": "stream",
          "name": "stdout",
          "text": [
            "One-Hot Encoded DataFrame:\n",
            "   Color_Blue  Color_Green  Color_Red\n",
            "0       False        False       True\n",
            "1       False         True      False\n",
            "2        True        False      False\n",
            "3       False         True      False\n",
            "4       False        False       True\n"
          ]
        }
      ]
    },
    {
      "cell_type": "markdown",
      "source": [
        "**Q8. Write a Python script to:**\n",
        "* **Generate 1000 samples from a normal distribution.**\n",
        "* **Introduce 50 random missing values.**\n",
        "* **Fill missing values with the column mean.**\n",
        "* **Plot a histogram before and after imputation.**"
      ],
      "metadata": {
        "id": "zCGHH3wJce5k"
      }
    },
    {
      "cell_type": "code",
      "source": [
        "import numpy as np\n",
        "import pandas as pd\n",
        "import matplotlib.pyplot as plt\n",
        "\n",
        "# Step1: Generate 1000 samples from a normal distribution\n",
        "np.random.seed(42)\n",
        "data = np.random.normal(loc=0, scale=1, size=1000)\n",
        "\n",
        "# Step2: Introduce 50 random missing values\n",
        "data_with_missing = data.copy()\n",
        "missing_indices = np.random.choice(len(data), size=50, replace=False)\n",
        "data_with_missing[missing_indices] = np.nan\n",
        "\n",
        "# Convert to DataFrame for easier handling\n",
        "df = pd.DataFrame({'Value': data_with_missing})\n",
        "\n",
        "# Step3: Fill missing values with the column mean\n",
        "mean_value = df['Value'].mean()\n",
        "df['imputed'] = df['Value'].fillna(mean_value)\n",
        "\n",
        "# Plot histograms before and after imputation\n",
        "plt.figure(figsize=(12, 6))\n",
        "\n",
        "# Original Data\n",
        "plt.subplot(1, 2, 1)\n",
        "plt.hist(df['Value'].dropna(), bins=20, color='blue', alpha=0.7)\n",
        "plt.title('Histogram Before Imputation')\n",
        "plt.xlabel('Value')\n",
        "plt.ylabel('Frequency')\n",
        "\n",
        "# Imputed Data\n",
        "plt.subplot(1, 2, 2)\n",
        "plt.hist(df['imputed'], bins=20, color='green', alpha=0.7)\n",
        "plt.title('Histogram After Imputation')\n",
        "plt.xlabel('Value')\n",
        "plt.ylabel('Frequency')\n",
        "\n",
        "plt.tight_layout()\n",
        "plt.show()"
      ],
      "metadata": {
        "id": "lKTQxlaFdHaC",
        "colab": {
          "base_uri": "https://localhost:8080/",
          "height": 607
        },
        "outputId": "8729ea3e-41ba-4058-a2a0-4a9073137989"
      },
      "execution_count": 2,
      "outputs": [
        {
          "output_type": "display_data",
          "data": {
            "text/plain": [
              "<Figure size 1200x600 with 2 Axes>"
            ],
            "image/png": "[encoded data removed]"
          },
          "metadata": {}
        }
      ]
    },
    {
      "cell_type": "markdown",
      "source": [
        "**Q9. Implement Min-Max scaling on the following list of numbers [2, 5, 10, 15,\n",
        "20] using sklearn.preprocessing.MinMaxScaler. Print the scaled array.**"
      ],
      "metadata": {
        "id": "Rqd3IWDMdHpt"
      }
    },
    {
      "cell_type": "code",
      "source": [
        "from sklearn.preprocessing import MinMaxScaler\n",
        "import numpy as np\n",
        "\n",
        "# Original data as a 2D array (required by MinMaxScaler)\n",
        "data = np.array([[2], [5], [10], [15], [20]])\n",
        "\n",
        "# Initialize the MinMaxScaler\n",
        "scaler = MinMaxScaler()\n",
        "\n",
        "# Fit and transform the data\n",
        "scaled_data = scaler.fit_transform(data)\n",
        "\n",
        "# Print the scaled array\n",
        "print(\"Scaled Array:\")\n",
        "print(scaled_data)"
      ],
      "metadata": {
        "id": "QWQ0h5Bedblj",
        "colab": {
          "base_uri": "https://localhost:8080/"
        },
        "outputId": "c2571acc-541b-4def-9ace-4e7c5d07792b"
      },
      "execution_count": 4,
      "outputs": [
        {
          "output_type": "stream",
          "name": "stdout",
          "text": [
            "Scaled Array:\n",
            "[[0.        ]\n",
            " [0.16666667]\n",
            " [0.44444444]\n",
            " [0.72222222]\n",
            " [1.        ]]\n"
          ]
        }
      ]
    },
    {
      "cell_type": "markdown",
      "source": [
        "**Q10. You are working as a data scientist for a retail company. You receive a customer transaction dataset that contains:**\n",
        "* **Missing ages,**\n",
        "* **Outliers in transaction amount,**\n",
        "* **A highly imbalanced target (fraud vs. non-fraud),**\n",
        "* **Categorical variables like payment method.**\n",
        "\n",
        "**Explain the step-by-step data preparation plan you’d follow before training a machine learning model. Include how you’d address missing data, outliers, imbalance, and encoding.**\n"
      ],
      "metadata": {
        "id": "a9XwQzacdb_L"
      }
    },
    {
      "cell_type": "markdown",
      "source": [
        "**Ans:** Here’s a structured data-preparation plan you could follow for that dataset before modeling.\n",
        "It addresses missing ages, outliers in transaction amount, class imbalance, and categorical encoding:\n",
        "\n",
        "1. **UNDERSTANDING AND INSPECT:**\n",
        "* **Initial EDA**: df.info(), df.describe(), df.isnull().sum(), boxplots/histograms to see distributions.\n",
        "\n",
        "* **Train/Test Split First**: If you plan supervised learning, split the data (stratified by fraud label) before any resampling to avoid leakage.\n",
        "\n",
        "2. **HANDLE MISSING AGES:**\n",
        "\n",
        "i. Quantify how many ages are missing and whether missingness is random.\n",
        "\n",
        "ii. Imputation\n",
        "\n",
        "* Simple: Median imputation (robust to skew).\n",
        "\n",
        "* Advanced: Predictive model (e.g., regression using other demographic features).\n",
        "\n",
        "iii. Indicator: Add a Boolean column age_missing so the model can learn if missingness itself is informative.\n",
        "\n",
        "CODE:\n",
        "\n",
        "from sklearn.impute import SimpleImputer\n",
        "\n",
        "age_imputer = SimpleImputer(strategy='median')\n",
        "\n",
        "3. **TREAT OUTLIERS IN TRANSACTION AMOUNT:**\n",
        "\n",
        "i. Detection: Boxplot, IQR rule, or z-scores.\n",
        "\n",
        "ii. Options\n",
        "\n",
        "* Winsorization/Capping: Clip values beyond, say, the 1st and 99th percentile.\n",
        "\n",
        "* Transformation: np.log1p(amount) to reduce skew.\n",
        "\n",
        "* Removal: Only if you confirm they are data errors.\n",
        "\n",
        "iii. If using algorithms robust to outliers (tree-based), you may just cap or transform rather than remove.\n",
        "\n",
        "4. **ENCODE CATEGORICAL VARIABLES** (ie payment methods):\n",
        "\n",
        "* Low cardinality (credit card, UPI, cash…): One-hot encoding is simplest.\n",
        "\n",
        "* If you later encounter high-cardinality features (e.g., merchant IDs), consider frequency or target encoding.\n",
        "\n",
        "CODE:\n",
        "\n",
        "from sklearn.preprocessing import OneHotEncoder\n",
        "\n",
        "ohe = OneHotEncoder(handle_unknown='ignore')\n",
        "\n",
        "5. **ADDRESS CLASS IMBALANCE (Fraud vs. Non-Fraud)**:\n",
        "i. **Resampling** (inside training fold only):\n",
        "\n",
        "* Oversample minority: SMOTE, ADASYN.\n",
        "\n",
        "* Undersample majority if dataset is huge.\n",
        "\n",
        "ii. **Algorithmic:** Set class_weight=\"balanced\" in models like LogisticRegression or RandomForest.\n",
        "\n",
        "iii. **Evaluation Metrics**: Prefer Precision-Recall AUC, F1, Recall instead of accuracy.\n",
        "\n",
        "6. **BUILD A REPRODUCIBLE PIPELINE:**\n",
        "Combine everything so transformations happen consistently and safely:"
      ],
      "metadata": {
        "id": "vlTxAMOcyUHq"
      }
    },
    {
      "cell_type": "code",
      "source": [
        "from sklearn.pipeline import Pipeline\n",
        "from sklearn.compose import ColumnTransformer\n",
        "from sklearn.ensemble import RandomForestClassifier\n",
        "from imblearn.over_sampling import SMOTE\n",
        "from imblearn.pipeline import Pipeline as ImbPipeline\n",
        "\n",
        "num_features = ['age','transaction_amount']\n",
        "cat_features = ['payment_method']\n",
        "\n",
        "num_pipe = Pipeline([\n",
        "    ('imputer', SimpleImputer(strategy='median')),\n",
        "    ('scaler', 'passthrough')  # or RobustScaler if desired\n",
        "])\n",
        "cat_pipe = Pipeline([\n",
        "    ('imputer', SimpleImputer(strategy='constant', fill_value='MISSING')),\n",
        "    ('encoder', OneHotEncoder(handle_unknown='ignore'))\n",
        "])\n",
        "\n",
        "preprocessor = ColumnTransformer([\n",
        "    ('num', num_pipe, num_features),\n",
        "    ('cat', cat_pipe, cat_features)\n",
        "])\n",
        "\n",
        "model = ImbPipeline([\n",
        "    ('prep', preprocessor),\n",
        "    ('smote', SMOTE(random_state=42)),\n",
        "    ('clf', RandomForestClassifier(class_weight='balanced', random_state=42))\n",
        "])"
      ],
      "metadata": {
        "id": "QZcDkam70skp"
      },
      "execution_count": 3,
      "outputs": []
    }
  ]
}